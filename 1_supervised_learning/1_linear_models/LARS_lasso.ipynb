{
 "cells": [
  {
   "cell_type": "markdown",
   "metadata": {},
   "source": [
    "## LassoLars \n",
    "\n",
    "Una técnica de regresión que combina Lasso (regresión L1) con un enfoque específico de selección de variables llamado Least Angle Regression (LARS). Este enfoque es muy eficiente en términos computacionales y especialmente útil cuando se tiene un número elevado de características y se espera que solo unas pocas sean relevantes para el modelo.\n",
    "\n",
    "### ¿Qué es LassoLars?\n",
    "\n",
    "Lasso es una técnica de regresión que utiliza regularización L1, lo que promueve la esparsidad en los coeficientes del modelo. En otras palabras, intenta reducir algunos de los coeficientes a cero, eliminando de forma efectiva las características irrelevantes.\n",
    "\n",
    "LARS, por su parte, es un algoritmo que sigue una estrategia de avance gradual para seleccionar las características más relevantes. Se basa en una idea similar a la regresión paso a paso o forward selection, pero de manera más eficiente.\n",
    "\n",
    "Cuando combinamos Lasso con LARS, se obtiene una versión eficiente de Lasso que utiliza el algoritmo LARS para encontrar el conjunto de características más relevante.\n",
    "\n",
    "### Características:\n",
    "\n",
    "Selección de características: LassoLars realiza una selección automática de características, lo que ayuda a identificar las más significativas.\n",
    "Regularización L1: Al igual que el Lasso, promueve la esparsidad y reduce el riesgo de sobreajuste.\n",
    "Eficiencia: LARS es especialmente eficiente cuando el número de características es mucho mayor que el número de muestras.\n",
    "\n",
    "Fórmula de la función de coste para Lasso:\n",
    "\n",
    "$$\n",
    " \\text{min} \\left( \\| y - X \\beta \\|_2^2 + \\lambda \\| \\beta \\|_1 \\right) \n",
    "$$\n",
    "\n",
    "\n",
    "Donde:\n",
    "- ${y}$ es el vector de valores observados.\n",
    "- ${X}$ es la matriz de características.\n",
    "- ${\\beta}$ es el vector de coeficientes.\n",
    "- ${\\lambda}$ es el parámetro de regularización que controla la cantidad de penalización aplicada a los coeficientes."
   ]
  },
  {
   "cell_type": "code",
   "execution_count": 2,
   "metadata": {},
   "outputs": [
    {
     "name": "stdout",
     "output_type": "stream",
     "text": [
      "(422, 10)\n",
      "(20, 10)\n",
      "(422,)\n",
      "(20,)\n"
     ]
    }
   ],
   "source": [
    "import plotly.graph_objects as go\n",
    "from sklearn import datasets\n",
    "from sklearn.linear_model import LassoLars\n",
    "from sklearn.model_selection import train_test_split\n",
    "from sklearn.metrics import mean_squared_error\n",
    "\n",
    "# Load the diabetes dataset\n",
    "diabetes_x,diabetes_y = datasets.load_diabetes(return_X_y=True)\n",
    "# Split the data into training/testing sets\n",
    "x_train, x_test, y_train, y_test = train_test_split(diabetes_x, diabetes_y, test_size=20, shuffle=False)\n",
    "print(x_train.shape)\n",
    "print(x_test.shape)\n",
    "print(y_train.shape)\n",
    "print(y_test.shape)"
   ]
  },
  {
   "cell_type": "code",
   "execution_count": 7,
   "metadata": {},
   "outputs": [
    {
     "data": {
      "text/html": [
       "<style>#sk-container-id-1 {\n",
       "  /* Definition of color scheme common for light and dark mode */\n",
       "  --sklearn-color-text: #000;\n",
       "  --sklearn-color-text-muted: #666;\n",
       "  --sklearn-color-line: gray;\n",
       "  /* Definition of color scheme for unfitted estimators */\n",
       "  --sklearn-color-unfitted-level-0: #fff5e6;\n",
       "  --sklearn-color-unfitted-level-1: #f6e4d2;\n",
       "  --sklearn-color-unfitted-level-2: #ffe0b3;\n",
       "  --sklearn-color-unfitted-level-3: chocolate;\n",
       "  /* Definition of color scheme for fitted estimators */\n",
       "  --sklearn-color-fitted-level-0: #f0f8ff;\n",
       "  --sklearn-color-fitted-level-1: #d4ebff;\n",
       "  --sklearn-color-fitted-level-2: #b3dbfd;\n",
       "  --sklearn-color-fitted-level-3: cornflowerblue;\n",
       "\n",
       "  /* Specific color for light theme */\n",
       "  --sklearn-color-text-on-default-background: var(--sg-text-color, var(--theme-code-foreground, var(--jp-content-font-color1, black)));\n",
       "  --sklearn-color-background: var(--sg-background-color, var(--theme-background, var(--jp-layout-color0, white)));\n",
       "  --sklearn-color-border-box: var(--sg-text-color, var(--theme-code-foreground, var(--jp-content-font-color1, black)));\n",
       "  --sklearn-color-icon: #696969;\n",
       "\n",
       "  @media (prefers-color-scheme: dark) {\n",
       "    /* Redefinition of color scheme for dark theme */\n",
       "    --sklearn-color-text-on-default-background: var(--sg-text-color, var(--theme-code-foreground, var(--jp-content-font-color1, white)));\n",
       "    --sklearn-color-background: var(--sg-background-color, var(--theme-background, var(--jp-layout-color0, #111)));\n",
       "    --sklearn-color-border-box: var(--sg-text-color, var(--theme-code-foreground, var(--jp-content-font-color1, white)));\n",
       "    --sklearn-color-icon: #878787;\n",
       "  }\n",
       "}\n",
       "\n",
       "#sk-container-id-1 {\n",
       "  color: var(--sklearn-color-text);\n",
       "}\n",
       "\n",
       "#sk-container-id-1 pre {\n",
       "  padding: 0;\n",
       "}\n",
       "\n",
       "#sk-container-id-1 input.sk-hidden--visually {\n",
       "  border: 0;\n",
       "  clip: rect(1px 1px 1px 1px);\n",
       "  clip: rect(1px, 1px, 1px, 1px);\n",
       "  height: 1px;\n",
       "  margin: -1px;\n",
       "  overflow: hidden;\n",
       "  padding: 0;\n",
       "  position: absolute;\n",
       "  width: 1px;\n",
       "}\n",
       "\n",
       "#sk-container-id-1 div.sk-dashed-wrapped {\n",
       "  border: 1px dashed var(--sklearn-color-line);\n",
       "  margin: 0 0.4em 0.5em 0.4em;\n",
       "  box-sizing: border-box;\n",
       "  padding-bottom: 0.4em;\n",
       "  background-color: var(--sklearn-color-background);\n",
       "}\n",
       "\n",
       "#sk-container-id-1 div.sk-container {\n",
       "  /* jupyter's `normalize.less` sets `[hidden] { display: none; }`\n",
       "     but bootstrap.min.css set `[hidden] { display: none !important; }`\n",
       "     so we also need the `!important` here to be able to override the\n",
       "     default hidden behavior on the sphinx rendered scikit-learn.org.\n",
       "     See: https://github.com/scikit-learn/scikit-learn/issues/21755 */\n",
       "  display: inline-block !important;\n",
       "  position: relative;\n",
       "}\n",
       "\n",
       "#sk-container-id-1 div.sk-text-repr-fallback {\n",
       "  display: none;\n",
       "}\n",
       "\n",
       "div.sk-parallel-item,\n",
       "div.sk-serial,\n",
       "div.sk-item {\n",
       "  /* draw centered vertical line to link estimators */\n",
       "  background-image: linear-gradient(var(--sklearn-color-text-on-default-background), var(--sklearn-color-text-on-default-background));\n",
       "  background-size: 2px 100%;\n",
       "  background-repeat: no-repeat;\n",
       "  background-position: center center;\n",
       "}\n",
       "\n",
       "/* Parallel-specific style estimator block */\n",
       "\n",
       "#sk-container-id-1 div.sk-parallel-item::after {\n",
       "  content: \"\";\n",
       "  width: 100%;\n",
       "  border-bottom: 2px solid var(--sklearn-color-text-on-default-background);\n",
       "  flex-grow: 1;\n",
       "}\n",
       "\n",
       "#sk-container-id-1 div.sk-parallel {\n",
       "  display: flex;\n",
       "  align-items: stretch;\n",
       "  justify-content: center;\n",
       "  background-color: var(--sklearn-color-background);\n",
       "  position: relative;\n",
       "}\n",
       "\n",
       "#sk-container-id-1 div.sk-parallel-item {\n",
       "  display: flex;\n",
       "  flex-direction: column;\n",
       "}\n",
       "\n",
       "#sk-container-id-1 div.sk-parallel-item:first-child::after {\n",
       "  align-self: flex-end;\n",
       "  width: 50%;\n",
       "}\n",
       "\n",
       "#sk-container-id-1 div.sk-parallel-item:last-child::after {\n",
       "  align-self: flex-start;\n",
       "  width: 50%;\n",
       "}\n",
       "\n",
       "#sk-container-id-1 div.sk-parallel-item:only-child::after {\n",
       "  width: 0;\n",
       "}\n",
       "\n",
       "/* Serial-specific style estimator block */\n",
       "\n",
       "#sk-container-id-1 div.sk-serial {\n",
       "  display: flex;\n",
       "  flex-direction: column;\n",
       "  align-items: center;\n",
       "  background-color: var(--sklearn-color-background);\n",
       "  padding-right: 1em;\n",
       "  padding-left: 1em;\n",
       "}\n",
       "\n",
       "\n",
       "/* Toggleable style: style used for estimator/Pipeline/ColumnTransformer box that is\n",
       "clickable and can be expanded/collapsed.\n",
       "- Pipeline and ColumnTransformer use this feature and define the default style\n",
       "- Estimators will overwrite some part of the style using the `sk-estimator` class\n",
       "*/\n",
       "\n",
       "/* Pipeline and ColumnTransformer style (default) */\n",
       "\n",
       "#sk-container-id-1 div.sk-toggleable {\n",
       "  /* Default theme specific background. It is overwritten whether we have a\n",
       "  specific estimator or a Pipeline/ColumnTransformer */\n",
       "  background-color: var(--sklearn-color-background);\n",
       "}\n",
       "\n",
       "/* Toggleable label */\n",
       "#sk-container-id-1 label.sk-toggleable__label {\n",
       "  cursor: pointer;\n",
       "  display: flex;\n",
       "  width: 100%;\n",
       "  margin-bottom: 0;\n",
       "  padding: 0.5em;\n",
       "  box-sizing: border-box;\n",
       "  text-align: center;\n",
       "  align-items: start;\n",
       "  justify-content: space-between;\n",
       "  gap: 0.5em;\n",
       "}\n",
       "\n",
       "#sk-container-id-1 label.sk-toggleable__label .caption {\n",
       "  font-size: 0.6rem;\n",
       "  font-weight: lighter;\n",
       "  color: var(--sklearn-color-text-muted);\n",
       "}\n",
       "\n",
       "#sk-container-id-1 label.sk-toggleable__label-arrow:before {\n",
       "  /* Arrow on the left of the label */\n",
       "  content: \"▸\";\n",
       "  float: left;\n",
       "  margin-right: 0.25em;\n",
       "  color: var(--sklearn-color-icon);\n",
       "}\n",
       "\n",
       "#sk-container-id-1 label.sk-toggleable__label-arrow:hover:before {\n",
       "  color: var(--sklearn-color-text);\n",
       "}\n",
       "\n",
       "/* Toggleable content - dropdown */\n",
       "\n",
       "#sk-container-id-1 div.sk-toggleable__content {\n",
       "  max-height: 0;\n",
       "  max-width: 0;\n",
       "  overflow: hidden;\n",
       "  text-align: left;\n",
       "  /* unfitted */\n",
       "  background-color: var(--sklearn-color-unfitted-level-0);\n",
       "}\n",
       "\n",
       "#sk-container-id-1 div.sk-toggleable__content.fitted {\n",
       "  /* fitted */\n",
       "  background-color: var(--sklearn-color-fitted-level-0);\n",
       "}\n",
       "\n",
       "#sk-container-id-1 div.sk-toggleable__content pre {\n",
       "  margin: 0.2em;\n",
       "  border-radius: 0.25em;\n",
       "  color: var(--sklearn-color-text);\n",
       "  /* unfitted */\n",
       "  background-color: var(--sklearn-color-unfitted-level-0);\n",
       "}\n",
       "\n",
       "#sk-container-id-1 div.sk-toggleable__content.fitted pre {\n",
       "  /* unfitted */\n",
       "  background-color: var(--sklearn-color-fitted-level-0);\n",
       "}\n",
       "\n",
       "#sk-container-id-1 input.sk-toggleable__control:checked~div.sk-toggleable__content {\n",
       "  /* Expand drop-down */\n",
       "  max-height: 200px;\n",
       "  max-width: 100%;\n",
       "  overflow: auto;\n",
       "}\n",
       "\n",
       "#sk-container-id-1 input.sk-toggleable__control:checked~label.sk-toggleable__label-arrow:before {\n",
       "  content: \"▾\";\n",
       "}\n",
       "\n",
       "/* Pipeline/ColumnTransformer-specific style */\n",
       "\n",
       "#sk-container-id-1 div.sk-label input.sk-toggleable__control:checked~label.sk-toggleable__label {\n",
       "  color: var(--sklearn-color-text);\n",
       "  background-color: var(--sklearn-color-unfitted-level-2);\n",
       "}\n",
       "\n",
       "#sk-container-id-1 div.sk-label.fitted input.sk-toggleable__control:checked~label.sk-toggleable__label {\n",
       "  background-color: var(--sklearn-color-fitted-level-2);\n",
       "}\n",
       "\n",
       "/* Estimator-specific style */\n",
       "\n",
       "/* Colorize estimator box */\n",
       "#sk-container-id-1 div.sk-estimator input.sk-toggleable__control:checked~label.sk-toggleable__label {\n",
       "  /* unfitted */\n",
       "  background-color: var(--sklearn-color-unfitted-level-2);\n",
       "}\n",
       "\n",
       "#sk-container-id-1 div.sk-estimator.fitted input.sk-toggleable__control:checked~label.sk-toggleable__label {\n",
       "  /* fitted */\n",
       "  background-color: var(--sklearn-color-fitted-level-2);\n",
       "}\n",
       "\n",
       "#sk-container-id-1 div.sk-label label.sk-toggleable__label,\n",
       "#sk-container-id-1 div.sk-label label {\n",
       "  /* The background is the default theme color */\n",
       "  color: var(--sklearn-color-text-on-default-background);\n",
       "}\n",
       "\n",
       "/* On hover, darken the color of the background */\n",
       "#sk-container-id-1 div.sk-label:hover label.sk-toggleable__label {\n",
       "  color: var(--sklearn-color-text);\n",
       "  background-color: var(--sklearn-color-unfitted-level-2);\n",
       "}\n",
       "\n",
       "/* Label box, darken color on hover, fitted */\n",
       "#sk-container-id-1 div.sk-label.fitted:hover label.sk-toggleable__label.fitted {\n",
       "  color: var(--sklearn-color-text);\n",
       "  background-color: var(--sklearn-color-fitted-level-2);\n",
       "}\n",
       "\n",
       "/* Estimator label */\n",
       "\n",
       "#sk-container-id-1 div.sk-label label {\n",
       "  font-family: monospace;\n",
       "  font-weight: bold;\n",
       "  display: inline-block;\n",
       "  line-height: 1.2em;\n",
       "}\n",
       "\n",
       "#sk-container-id-1 div.sk-label-container {\n",
       "  text-align: center;\n",
       "}\n",
       "\n",
       "/* Estimator-specific */\n",
       "#sk-container-id-1 div.sk-estimator {\n",
       "  font-family: monospace;\n",
       "  border: 1px dotted var(--sklearn-color-border-box);\n",
       "  border-radius: 0.25em;\n",
       "  box-sizing: border-box;\n",
       "  margin-bottom: 0.5em;\n",
       "  /* unfitted */\n",
       "  background-color: var(--sklearn-color-unfitted-level-0);\n",
       "}\n",
       "\n",
       "#sk-container-id-1 div.sk-estimator.fitted {\n",
       "  /* fitted */\n",
       "  background-color: var(--sklearn-color-fitted-level-0);\n",
       "}\n",
       "\n",
       "/* on hover */\n",
       "#sk-container-id-1 div.sk-estimator:hover {\n",
       "  /* unfitted */\n",
       "  background-color: var(--sklearn-color-unfitted-level-2);\n",
       "}\n",
       "\n",
       "#sk-container-id-1 div.sk-estimator.fitted:hover {\n",
       "  /* fitted */\n",
       "  background-color: var(--sklearn-color-fitted-level-2);\n",
       "}\n",
       "\n",
       "/* Specification for estimator info (e.g. \"i\" and \"?\") */\n",
       "\n",
       "/* Common style for \"i\" and \"?\" */\n",
       "\n",
       ".sk-estimator-doc-link,\n",
       "a:link.sk-estimator-doc-link,\n",
       "a:visited.sk-estimator-doc-link {\n",
       "  float: right;\n",
       "  font-size: smaller;\n",
       "  line-height: 1em;\n",
       "  font-family: monospace;\n",
       "  background-color: var(--sklearn-color-background);\n",
       "  border-radius: 1em;\n",
       "  height: 1em;\n",
       "  width: 1em;\n",
       "  text-decoration: none !important;\n",
       "  margin-left: 0.5em;\n",
       "  text-align: center;\n",
       "  /* unfitted */\n",
       "  border: var(--sklearn-color-unfitted-level-1) 1pt solid;\n",
       "  color: var(--sklearn-color-unfitted-level-1);\n",
       "}\n",
       "\n",
       ".sk-estimator-doc-link.fitted,\n",
       "a:link.sk-estimator-doc-link.fitted,\n",
       "a:visited.sk-estimator-doc-link.fitted {\n",
       "  /* fitted */\n",
       "  border: var(--sklearn-color-fitted-level-1) 1pt solid;\n",
       "  color: var(--sklearn-color-fitted-level-1);\n",
       "}\n",
       "\n",
       "/* On hover */\n",
       "div.sk-estimator:hover .sk-estimator-doc-link:hover,\n",
       ".sk-estimator-doc-link:hover,\n",
       "div.sk-label-container:hover .sk-estimator-doc-link:hover,\n",
       ".sk-estimator-doc-link:hover {\n",
       "  /* unfitted */\n",
       "  background-color: var(--sklearn-color-unfitted-level-3);\n",
       "  color: var(--sklearn-color-background);\n",
       "  text-decoration: none;\n",
       "}\n",
       "\n",
       "div.sk-estimator.fitted:hover .sk-estimator-doc-link.fitted:hover,\n",
       ".sk-estimator-doc-link.fitted:hover,\n",
       "div.sk-label-container:hover .sk-estimator-doc-link.fitted:hover,\n",
       ".sk-estimator-doc-link.fitted:hover {\n",
       "  /* fitted */\n",
       "  background-color: var(--sklearn-color-fitted-level-3);\n",
       "  color: var(--sklearn-color-background);\n",
       "  text-decoration: none;\n",
       "}\n",
       "\n",
       "/* Span, style for the box shown on hovering the info icon */\n",
       ".sk-estimator-doc-link span {\n",
       "  display: none;\n",
       "  z-index: 9999;\n",
       "  position: relative;\n",
       "  font-weight: normal;\n",
       "  right: .2ex;\n",
       "  padding: .5ex;\n",
       "  margin: .5ex;\n",
       "  width: min-content;\n",
       "  min-width: 20ex;\n",
       "  max-width: 50ex;\n",
       "  color: var(--sklearn-color-text);\n",
       "  box-shadow: 2pt 2pt 4pt #999;\n",
       "  /* unfitted */\n",
       "  background: var(--sklearn-color-unfitted-level-0);\n",
       "  border: .5pt solid var(--sklearn-color-unfitted-level-3);\n",
       "}\n",
       "\n",
       ".sk-estimator-doc-link.fitted span {\n",
       "  /* fitted */\n",
       "  background: var(--sklearn-color-fitted-level-0);\n",
       "  border: var(--sklearn-color-fitted-level-3);\n",
       "}\n",
       "\n",
       ".sk-estimator-doc-link:hover span {\n",
       "  display: block;\n",
       "}\n",
       "\n",
       "/* \"?\"-specific style due to the `<a>` HTML tag */\n",
       "\n",
       "#sk-container-id-1 a.estimator_doc_link {\n",
       "  float: right;\n",
       "  font-size: 1rem;\n",
       "  line-height: 1em;\n",
       "  font-family: monospace;\n",
       "  background-color: var(--sklearn-color-background);\n",
       "  border-radius: 1rem;\n",
       "  height: 1rem;\n",
       "  width: 1rem;\n",
       "  text-decoration: none;\n",
       "  /* unfitted */\n",
       "  color: var(--sklearn-color-unfitted-level-1);\n",
       "  border: var(--sklearn-color-unfitted-level-1) 1pt solid;\n",
       "}\n",
       "\n",
       "#sk-container-id-1 a.estimator_doc_link.fitted {\n",
       "  /* fitted */\n",
       "  border: var(--sklearn-color-fitted-level-1) 1pt solid;\n",
       "  color: var(--sklearn-color-fitted-level-1);\n",
       "}\n",
       "\n",
       "/* On hover */\n",
       "#sk-container-id-1 a.estimator_doc_link:hover {\n",
       "  /* unfitted */\n",
       "  background-color: var(--sklearn-color-unfitted-level-3);\n",
       "  color: var(--sklearn-color-background);\n",
       "  text-decoration: none;\n",
       "}\n",
       "\n",
       "#sk-container-id-1 a.estimator_doc_link.fitted:hover {\n",
       "  /* fitted */\n",
       "  background-color: var(--sklearn-color-fitted-level-3);\n",
       "}\n",
       "</style><div id=\"sk-container-id-1\" class=\"sk-top-container\"><div class=\"sk-text-repr-fallback\"><pre>LassoLars()</pre><b>In a Jupyter environment, please rerun this cell to show the HTML representation or trust the notebook. <br />On GitHub, the HTML representation is unable to render, please try loading this page with nbviewer.org.</b></div><div class=\"sk-container\" hidden><div class=\"sk-item\"><div class=\"sk-estimator fitted sk-toggleable\"><input class=\"sk-toggleable__control sk-hidden--visually\" id=\"sk-estimator-id-1\" type=\"checkbox\" checked><label for=\"sk-estimator-id-1\" class=\"sk-toggleable__label fitted sk-toggleable__label-arrow\"><div><div>LassoLars</div></div><div><a class=\"sk-estimator-doc-link fitted\" rel=\"noreferrer\" target=\"_blank\" href=\"https://scikit-learn.org/1.6/modules/generated/sklearn.linear_model.LassoLars.html\">?<span>Documentation for LassoLars</span></a><span class=\"sk-estimator-doc-link fitted\">i<span>Fitted</span></span></div></label><div class=\"sk-toggleable__content fitted\"><pre>LassoLars()</pre></div> </div></div></div></div>"
      ],
      "text/plain": [
       "LassoLars()"
      ]
     },
     "execution_count": 7,
     "metadata": {},
     "output_type": "execute_result"
    }
   ],
   "source": [
    "# crear modelo de regresion con el conjunto de entrenamiento\n",
    "regression = LassoLars(alpha=1.0)\n",
    "regression.fit(x_train,y_train)\n",
    "regression"
   ]
  },
  {
   "cell_type": "code",
   "execution_count": 8,
   "metadata": {},
   "outputs": [
    {
     "name": "stdout",
     "output_type": "stream",
     "text": [
      "Mean squared error: 3037.23\n",
      "Max 310.0|Min 48.0|Mean 126.2\n",
      "Max 206.03581991679656|Min 107.3576052858412|Mean 148.43919890750513\n",
      "[  0.           0.         357.61208063  11.57633572   0.\n",
      "   0.           0.           0.         305.61848222   0.        ]\n",
      "Coeficiente de determinación (R^2): 0.37\n"
     ]
    }
   ],
   "source": [
    "# Predecir el conjunto de testeo, solo toma los valores x para predecir los valores de y_test\n",
    "y_pred = regression.predict(x_test)\n",
    "print(f\"Mean squared error: {mean_squared_error(y_test, y_pred):.2f}\")\n",
    "print(f\"\"\"Max {y_test.max()}|Min {y_test.min()}|Mean {y_test.mean()}\\nMax {y_pred.max()}|Min {y_pred.min()}|Mean {y_pred.mean()}\"\"\")\n",
    "print(regression.coef_)\n",
    "print(f\"Coeficiente de determinación (R^2): {regression.score(x_test, y_test):.2f}\")"
   ]
  },
  {
   "cell_type": "code",
   "execution_count": 9,
   "metadata": {},
   "outputs": [
    {
     "data": {
      "application/vnd.plotly.v1+json": {
       "config": {
        "plotlyServerURL": "https://plot.ly"
       },
       "data": [
        {
         "mode": "markers",
         "name": "Train",
         "type": "scatter",
         "x": [
          0.061696206518683294,
          -0.051474061238800654,
          0.04445121333659049,
          -0.011595014505211082,
          -0.03638469220446948,
          -0.040695940499992665,
          -0.047162812943277475,
          -0.0018947058402839008,
          0.061696206518683294,
          0.039062152967186486,
          -0.08380842345522464,
          0.0175059114895705,
          -0.028840007687303888,
          -0.0018947058402839008,
          -0.02560657146566148,
          -0.018061886948495892,
          0.0422955891888289,
          0.012116851120166501,
          -0.010517202431330305,
          -0.018061886948495892,
          -0.05686312160820465,
          -0.022373135244019075,
          -0.004050329988045492,
          0.06061839444480248,
          0.03582871674554409,
          -0.012672826579091896,
          -0.07734155101193986,
          0.05954058237092167,
          -0.0212953231701383,
          -0.006205954135807083,
          0.04445121333659049,
          -0.06548561819925106,
          0.12528711887765046,
          -0.050396249164919873,
          -0.06332999405148947,
          -0.03099563183506548,
          0.022894971858974496,
          0.011039039046285686,
          0.07139651518361048,
          0.014272475267928093,
          -0.008361578283568675,
          -0.06764124234701265,
          -0.010517202431330305,
          -0.023450947317899894,
          0.0681630789619681,
          -0.035306880130588664,
          -0.011595014505211082,
          -0.07303030271641665,
          -0.041773752573873474,
          0.014272475267928093,
          -0.007283766209687899,
          0.016428099415689682,
          -0.00943939035744949,
          -0.015906262800734303,
          0.02505059600673609,
          -0.049318437091039065,
          0.04121777711494808,
          -0.06332999405148947,
          -0.06440780612537028,
          -0.02560657146566148,
          -0.004050329988045492,
          0.004572166603000912,
          -0.007283766209687899,
          -0.03746250427835029,
          -0.02560657146566148,
          -0.02452875939178067,
          -0.018061886948495892,
          -0.014828450726853487,
          -0.029917819761184662,
          -0.04608500086939666,
          -0.06979686649477428,
          0.03367309259778249,
          -0.004050329988045492,
          -0.020217511096257485,
          0.002416542455239321,
          -0.03099563183506548,
          0.028284032228378497,
          -0.03638469220446948,
          -0.05794093368208547,
          -0.03746250427835029,
          0.012116851120166501,
          -0.022373135244019075,
          -0.035306880130588664,
          0.009961226972404908,
          -0.039618128426111884,
          0.07139651518361048,
          -0.07518592686417827,
          -0.006205954135807083,
          -0.040695940499992665,
          -0.048240625017158284,
          -0.02560657146566148,
          0.05199589785375607,
          0.004572166603000912,
          -0.06440780612537028,
          -0.01698407487461508,
          -0.05794093368208547,
          0.009961226972404908,
          0.08864150836570328,
          -0.0051281420619263066,
          -0.06440780612537028,
          0.0175059114895705,
          -0.04500718879551588,
          0.028284032228378497,
          0.04121777711494808,
          0.06492964274032566,
          -0.0320734439089463,
          -0.07626373893805906,
          0.04984027370599448,
          0.045529025410471304,
          -0.00943939035744949,
          -0.0320734439089463,
          0.004572166603000912,
          0.020739347711212906,
          0.014272475267928093,
          0.11019774984331929,
          0.0013387303813585058,
          0.05846277029704089,
          -0.0212953231701383,
          -0.010517202431330305,
          -0.047162812943277475,
          0.004572166603000912,
          0.0175059114895705,
          0.08109682384853766,
          0.03475090467166331,
          0.023972783932855315,
          -0.008361578283568675,
          -0.061174369903727877,
          -0.0018947058402839008,
          -0.06225218197760866,
          0.016428099415689682,
          0.09618619288286882,
          -0.06979686649477428,
          -0.0212953231701383,
          -0.05362968538656229,
          0.04337340126270967,
          0.0563071461492793,
          -0.08165279930746305,
          0.04984027370599448,
          0.11127556191720007,
          0.061696206518683294,
          0.014272475267928093,
          0.04768464955823289,
          0.012116851120166501,
          0.005649978676881689,
          0.04660683748435208,
          0.12852055509929283,
          0.05954058237092167,
          0.09295275666122646,
          0.015350287341808908,
          -0.0051281420619263066,
          0.07031870310972965,
          -0.004050329988045492,
          -0.0008168937664030856,
          -0.04392937672163507,
          0.020739347711212906,
          0.06061839444480248,
          -0.010517202431330305,
          -0.033151255982827074,
          -0.06548561819925106,
          0.04337340126270967,
          -0.06225218197760866,
          0.06385183066644486,
          0.030439656376140087,
          0.0724743272574913,
          -0.01913969902237667,
          -0.06656343027313188,
          -0.06009655782984706,
          0.06924089103584885,
          0.05954058237092167,
          -0.0266843835395423,
          -0.020217511096257485,
          -0.04608500086939666,
          0.07139651518361048,
          -0.07949717515970146,
          0.009961226972404908,
          -0.03854031635223107,
          0.01966153563733209,
          0.027206220154497678,
          -0.008361578283568675,
          -0.015906262800734303,
          0.004572166603000912,
          -0.04285156464775429,
          0.005649978676881689,
          -0.035306880130588664,
          0.023972783932855315,
          -0.018061886948495892,
          0.0422955891888289,
          -0.05470749746044306,
          -0.002972517914164677,
          -0.06656343027313188,
          -0.012672826579091896,
          -0.041773752573873474,
          -0.03099563183506548,
          -0.0051281420619263066,
          -0.05901874575596628,
          0.02505059600673609,
          -0.04608500086939666,
          0.0034943545291200974,
          0.05415152200151766,
          -0.04500718879551588,
          -0.05794093368208547,
          -0.05578530953432388,
          0.0013387303813585058,
          0.030439656376140087,
          0.006727790750762504,
          0.04660683748435208,
          0.026128408080616904,
          0.045529025410471304,
          0.04013996504106731,
          -0.018061886948495892,
          0.014272475267928093,
          0.0369065288194249,
          0.0034943545291200974,
          -0.07087467856865506,
          -0.033151255982827074,
          0.09403056873510728,
          0.03582871674554409,
          0.031517468450020895,
          -0.06548561819925106,
          -0.041773752573873474,
          -0.039618128426111884,
          -0.03854031635223107,
          -0.02560657146566148,
          -0.023450947317899894,
          -0.06656343027313188,
          0.032595280523901676,
          -0.04608500086939666,
          -0.029917819761184662,
          -0.012672826579091896,
          -0.015906262800734303,
          0.07139651518361048,
          -0.03099563183506548,
          0.00026091830747769084,
          0.0369065288194249,
          0.039062152967186486,
          -0.014828450726853487,
          0.006727790750762504,
          -0.06871905442089347,
          -0.00943939035744949,
          0.01966153563733209,
          0.07462995140525285,
          -0.008361578283568675,
          -0.023450947317899894,
          -0.04608500086939666,
          0.05415152200151766,
          -0.035306880130588664,
          -0.0320734439089463,
          -0.08165279930746305,
          0.04768464955823289,
          0.06061839444480248,
          0.0563071461492793,
          0.09834181703063047,
          0.05954058237092167,
          0.03367309259778249,
          0.0563071461492793,
          -0.06548561819925106,
          0.16085491731571683,
          -0.05578530953432388,
          -0.02452875939178067,
          -0.03638469220446948,
          -0.008361578283568675,
          -0.041773752573873474,
          0.1274427430254121,
          -0.07734155101193986,
          0.028284032228378497,
          -0.02560657146566148,
          -0.06225218197760866,
          -0.0008168937664030856,
          0.08864150836570328,
          -0.0320734439089463,
          0.030439656376140087,
          0.008883414898524095,
          0.006727790750762504,
          -0.020217511096257485,
          -0.02452875939178067,
          -0.011595014505211082,
          0.026128408080616904,
          -0.05901874575596628,
          -0.03638469220446948,
          -0.02452875939178067,
          0.018583723563451313,
          -0.09027529589850945,
          -0.0051281420619263066,
          -0.05255187331268147,
          -0.022373135244019075,
          -0.020217511096257485,
          -0.05470749746044306,
          -0.006205954135807083,
          -0.01698407487461508,
          0.055229334075398484,
          0.07678557555301448,
          0.018583723563451313,
          -0.022373135244019075,
          0.09295275666122646,
          -0.03099563183506548,
          0.039062152967186486,
          -0.061174369903727877,
          -0.008361578283568675,
          -0.03746250427835029,
          -0.013750638652972673,
          0.0735521393313721,
          -0.02452875939178067,
          0.03367309259778249,
          0.03475090467166331,
          -0.03854031635223107,
          -0.039618128426111884,
          -0.0018947058402839008,
          -0.03099563183506548,
          -0.04608500086939666,
          0.0013387303813585058,
          0.06492964274032566,
          0.04013996504106731,
          -0.023450947317899894,
          0.053073709927636895,
          0.04013996504106731,
          -0.020217511096257485,
          0.014272475267928093,
          -0.03422906805670789,
          0.006727790750762504,
          0.004572166603000912,
          0.030439656376140087,
          0.05199589785375607,
          0.061696206518683294,
          -0.007283766209687899,
          0.005649978676881689,
          0.05415152200151766,
          -0.008361578283568675,
          0.11450899813884247,
          0.0670852668880873,
          -0.05578530953432388,
          0.030439656376140087,
          -0.02560657146566148,
          0.10480868947391528,
          -0.006205954135807083,
          -0.047162812943277475,
          -0.048240625017158284,
          0.08540807214406083,
          -0.012672826579091896,
          -0.033151255982827074,
          -0.007283766209687899,
          -0.013750638652972673,
          0.05954058237092167,
          0.021817159785093684,
          0.018583723563451313,
          -0.011595014505211082,
          -0.002972517914164677,
          0.0175059114895705,
          -0.029917819761184662,
          -0.020217511096257485,
          -0.05794093368208547,
          0.06061839444480248,
          -0.040695940499992665,
          -0.07195249064253588,
          -0.05578530953432388,
          0.045529025410471304,
          -0.00943939035744949,
          -0.033151255982827074,
          0.04984027370599448,
          -0.08488623552910546,
          0.005649978676881689,
          0.020739347711212906,
          -0.007283766209687899,
          0.10480868947391528,
          -0.02452875939178067,
          -0.006205954135807083,
          -0.03854031635223107,
          0.13714305169033927,
          0.17055522598064407,
          0.002416542455239321,
          0.03798434089330568,
          -0.05794093368208547,
          -0.00943939035744949,
          -0.023450947317899894,
          -0.010517202431330305,
          -0.03422906805670789,
          -0.002972517914164677,
          0.0681630789619681,
          0.009961226972404908,
          0.002416542455239321,
          -0.03854031635223107,
          0.026128408080616904,
          -0.08919748382462865,
          0.06061839444480248,
          -0.028840007687303888,
          -0.029917819761184662,
          -0.01913969902237667,
          -0.040695940499992665,
          0.015350287341808908,
          -0.02452875939178067,
          0.0013387303813585058,
          0.06924089103584885,
          -0.06979686649477428,
          -0.029917819761184662,
          -0.04608500086939666,
          0.018583723563451313,
          0.0013387303813585058,
          -0.03099563183506548,
          -0.004050329988045492,
          0.015350287341808908,
          0.022894971858974496,
          0.045529025410471304,
          -0.04500718879551588,
          -0.033151255982827074,
          0.09726400495674965,
          0.05415152200151766,
          0.12313149472988882,
          -0.08057498723358228,
          0.09295275666122646,
          -0.050396249164919873,
          -0.011595014505211082,
          -0.027762195613423073,
          0.05846277029704089,
          0.08540807214406083,
          -0.0008168937664030856,
          0.006727790750762504,
          0.008883414898524095,
          0.08001901177465684,
          0.07139651518361048,
          -0.02452875939178067,
          -0.05470749746044306,
          -0.03638469220446948,
          0.016428099415689682
         ],
         "y": [
          151,
          75,
          141,
          206,
          135,
          97,
          138,
          63,
          110,
          310,
          101,
          69,
          179,
          185,
          118,
          171,
          166,
          144,
          97,
          168,
          68,
          49,
          68,
          245,
          184,
          202,
          137,
          85,
          131,
          283,
          129,
          59,
          341,
          87,
          65,
          102,
          265,
          276,
          252,
          90,
          100,
          55,
          61,
          92,
          259,
          53,
          190,
          142,
          75,
          142,
          155,
          225,
          59,
          104,
          182,
          128,
          52,
          37,
          170,
          170,
          61,
          144,
          52,
          128,
          71,
          163,
          150,
          97,
          160,
          178,
          48,
          270,
          202,
          111,
          85,
          42,
          170,
          200,
          252,
          113,
          143,
          51,
          52,
          210,
          65,
          141,
          55,
          134,
          42,
          111,
          98,
          164,
          48,
          96,
          90,
          162,
          150,
          279,
          92,
          83,
          128,
          102,
          302,
          198,
          95,
          53,
          134,
          144,
          232,
          81,
          104,
          59,
          246,
          297,
          258,
          229,
          275,
          281,
          179,
          200,
          200,
          173,
          180,
          84,
          121,
          161,
          99,
          109,
          115,
          268,
          274,
          158,
          107,
          83,
          103,
          272,
          85,
          280,
          336,
          281,
          118,
          317,
          235,
          60,
          174,
          259,
          178,
          128,
          96,
          126,
          288,
          88,
          292,
          71,
          197,
          186,
          25,
          84,
          96,
          195,
          53,
          217,
          172,
          131,
          214,
          59,
          70,
          220,
          268,
          152,
          47,
          74,
          295,
          101,
          151,
          127,
          237,
          225,
          81,
          151,
          107,
          64,
          138,
          185,
          265,
          101,
          137,
          143,
          141,
          79,
          292,
          178,
          91,
          116,
          86,
          122,
          72,
          129,
          142,
          90,
          158,
          39,
          196,
          222,
          277,
          99,
          196,
          202,
          155,
          77,
          191,
          70,
          73,
          49,
          65,
          263,
          248,
          296,
          214,
          185,
          78,
          93,
          252,
          150,
          77,
          208,
          77,
          108,
          160,
          53,
          220,
          154,
          259,
          90,
          246,
          124,
          67,
          72,
          257,
          262,
          275,
          177,
          71,
          47,
          187,
          125,
          78,
          51,
          258,
          215,
          303,
          243,
          91,
          150,
          310,
          153,
          346,
          63,
          89,
          50,
          39,
          103,
          308,
          116,
          145,
          74,
          45,
          115,
          264,
          87,
          202,
          127,
          182,
          241,
          66,
          94,
          283,
          64,
          102,
          200,
          265,
          94,
          230,
          181,
          156,
          233,
          60,
          219,
          80,
          68,
          332,
          248,
          84,
          200,
          55,
          85,
          89,
          31,
          129,
          83,
          275,
          65,
          198,
          236,
          253,
          124,
          44,
          172,
          114,
          142,
          109,
          180,
          144,
          163,
          147,
          97,
          220,
          190,
          109,
          191,
          122,
          230,
          242,
          248,
          249,
          192,
          131,
          237,
          78,
          135,
          244,
          199,
          270,
          164,
          72,
          96,
          306,
          91,
          214,
          95,
          216,
          263,
          178,
          113,
          200,
          139,
          139,
          88,
          148,
          88,
          243,
          71,
          77,
          109,
          272,
          60,
          54,
          221,
          90,
          311,
          281,
          182,
          321,
          58,
          262,
          206,
          233,
          242,
          123,
          167,
          63,
          197,
          71,
          168,
          140,
          217,
          121,
          235,
          245,
          40,
          52,
          104,
          132,
          88,
          69,
          219,
          72,
          201,
          110,
          51,
          277,
          63,
          118,
          69,
          273,
          258,
          43,
          198,
          242,
          232,
          175,
          93,
          168,
          275,
          293,
          281,
          72,
          140,
          189,
          181,
          209,
          136,
          261,
          113,
          131,
          174,
          257,
          55,
          84,
          42,
          146,
          212
         ]
        },
        {
         "marker": {
          "size": 8
         },
         "mode": "markers",
         "name": "Test",
         "type": "scatter",
         "x": [
          0.07786338762689529,
          -0.039618128426111884,
          0.011039039046285686,
          -0.040695940499992665,
          -0.03422906805670789,
          0.005649978676881689,
          0.08864150836570328,
          -0.033151255982827074,
          -0.05686312160820465,
          -0.03099563183506548,
          0.055229334075398484,
          -0.06009655782984706,
          0.0013387303813585058,
          -0.023450947317899894,
          -0.07410811479029747,
          0.01966153563733209,
          -0.015906262800734303,
          -0.015906262800734303,
          0.039062152967186486,
          -0.07303030271641665
         ],
         "y": [
          233,
          91,
          111,
          152,
          120,
          67,
          310,
          94,
          183,
          66,
          173,
          72,
          49,
          64,
          48,
          178,
          104,
          132,
          220,
          57
         ]
        },
        {
         "marker": {
          "size": 9
         },
         "mode": "markers",
         "name": "Prediction",
         "type": "scatter",
         "x": [
          0.07786338762689529,
          -0.039618128426111884,
          0.011039039046285686,
          -0.040695940499992665,
          -0.03422906805670789,
          0.005649978676881689,
          0.08864150836570328,
          -0.033151255982827074,
          -0.05686312160820465,
          -0.03099563183506548,
          0.055229334075398484,
          -0.06009655782984706,
          0.0013387303813585058,
          -0.023450947317899894,
          -0.07410811479029747,
          0.01966153563733209,
          -0.015906262800734303,
          -0.015906262800734303,
          0.039062152967186486,
          -0.07303030271641665
         ],
         "y": [
          194.02694151723188,
          144.06278360449963,
          164.21409004735344,
          131.44224846807134,
          152.24137789417227,
          141.21221520488018,
          206.03581991679656,
          133.087822164375,
          129.18971995232758,
          137.7366135251773,
          189.84355711191097,
          115.59392210752613,
          139.829883126707,
          132.53524155300522,
          107.3576052858412,
          170.39563482870793,
          141.13258837866698,
          133.3235362215613,
          180.73175155507585,
          124.79062568621441
         ]
        }
       ],
       "layout": {
        "template": {
         "data": {
          "bar": [
           {
            "error_x": {
             "color": "#f2f5fa"
            },
            "error_y": {
             "color": "#f2f5fa"
            },
            "marker": {
             "line": {
              "color": "rgb(17,17,17)",
              "width": 0.5
             },
             "pattern": {
              "fillmode": "overlay",
              "size": 10,
              "solidity": 0.2
             }
            },
            "type": "bar"
           }
          ],
          "barpolar": [
           {
            "marker": {
             "line": {
              "color": "rgb(17,17,17)",
              "width": 0.5
             },
             "pattern": {
              "fillmode": "overlay",
              "size": 10,
              "solidity": 0.2
             }
            },
            "type": "barpolar"
           }
          ],
          "carpet": [
           {
            "aaxis": {
             "endlinecolor": "#A2B1C6",
             "gridcolor": "#506784",
             "linecolor": "#506784",
             "minorgridcolor": "#506784",
             "startlinecolor": "#A2B1C6"
            },
            "baxis": {
             "endlinecolor": "#A2B1C6",
             "gridcolor": "#506784",
             "linecolor": "#506784",
             "minorgridcolor": "#506784",
             "startlinecolor": "#A2B1C6"
            },
            "type": "carpet"
           }
          ],
          "choropleth": [
           {
            "colorbar": {
             "outlinewidth": 0,
             "ticks": ""
            },
            "type": "choropleth"
           }
          ],
          "contour": [
           {
            "colorbar": {
             "outlinewidth": 0,
             "ticks": ""
            },
            "colorscale": [
             [
              0,
              "#0d0887"
             ],
             [
              0.1111111111111111,
              "#46039f"
             ],
             [
              0.2222222222222222,
              "#7201a8"
             ],
             [
              0.3333333333333333,
              "#9c179e"
             ],
             [
              0.4444444444444444,
              "#bd3786"
             ],
             [
              0.5555555555555556,
              "#d8576b"
             ],
             [
              0.6666666666666666,
              "#ed7953"
             ],
             [
              0.7777777777777778,
              "#fb9f3a"
             ],
             [
              0.8888888888888888,
              "#fdca26"
             ],
             [
              1,
              "#f0f921"
             ]
            ],
            "type": "contour"
           }
          ],
          "contourcarpet": [
           {
            "colorbar": {
             "outlinewidth": 0,
             "ticks": ""
            },
            "type": "contourcarpet"
           }
          ],
          "heatmap": [
           {
            "colorbar": {
             "outlinewidth": 0,
             "ticks": ""
            },
            "colorscale": [
             [
              0,
              "#0d0887"
             ],
             [
              0.1111111111111111,
              "#46039f"
             ],
             [
              0.2222222222222222,
              "#7201a8"
             ],
             [
              0.3333333333333333,
              "#9c179e"
             ],
             [
              0.4444444444444444,
              "#bd3786"
             ],
             [
              0.5555555555555556,
              "#d8576b"
             ],
             [
              0.6666666666666666,
              "#ed7953"
             ],
             [
              0.7777777777777778,
              "#fb9f3a"
             ],
             [
              0.8888888888888888,
              "#fdca26"
             ],
             [
              1,
              "#f0f921"
             ]
            ],
            "type": "heatmap"
           }
          ],
          "heatmapgl": [
           {
            "colorbar": {
             "outlinewidth": 0,
             "ticks": ""
            },
            "colorscale": [
             [
              0,
              "#0d0887"
             ],
             [
              0.1111111111111111,
              "#46039f"
             ],
             [
              0.2222222222222222,
              "#7201a8"
             ],
             [
              0.3333333333333333,
              "#9c179e"
             ],
             [
              0.4444444444444444,
              "#bd3786"
             ],
             [
              0.5555555555555556,
              "#d8576b"
             ],
             [
              0.6666666666666666,
              "#ed7953"
             ],
             [
              0.7777777777777778,
              "#fb9f3a"
             ],
             [
              0.8888888888888888,
              "#fdca26"
             ],
             [
              1,
              "#f0f921"
             ]
            ],
            "type": "heatmapgl"
           }
          ],
          "histogram": [
           {
            "marker": {
             "pattern": {
              "fillmode": "overlay",
              "size": 10,
              "solidity": 0.2
             }
            },
            "type": "histogram"
           }
          ],
          "histogram2d": [
           {
            "colorbar": {
             "outlinewidth": 0,
             "ticks": ""
            },
            "colorscale": [
             [
              0,
              "#0d0887"
             ],
             [
              0.1111111111111111,
              "#46039f"
             ],
             [
              0.2222222222222222,
              "#7201a8"
             ],
             [
              0.3333333333333333,
              "#9c179e"
             ],
             [
              0.4444444444444444,
              "#bd3786"
             ],
             [
              0.5555555555555556,
              "#d8576b"
             ],
             [
              0.6666666666666666,
              "#ed7953"
             ],
             [
              0.7777777777777778,
              "#fb9f3a"
             ],
             [
              0.8888888888888888,
              "#fdca26"
             ],
             [
              1,
              "#f0f921"
             ]
            ],
            "type": "histogram2d"
           }
          ],
          "histogram2dcontour": [
           {
            "colorbar": {
             "outlinewidth": 0,
             "ticks": ""
            },
            "colorscale": [
             [
              0,
              "#0d0887"
             ],
             [
              0.1111111111111111,
              "#46039f"
             ],
             [
              0.2222222222222222,
              "#7201a8"
             ],
             [
              0.3333333333333333,
              "#9c179e"
             ],
             [
              0.4444444444444444,
              "#bd3786"
             ],
             [
              0.5555555555555556,
              "#d8576b"
             ],
             [
              0.6666666666666666,
              "#ed7953"
             ],
             [
              0.7777777777777778,
              "#fb9f3a"
             ],
             [
              0.8888888888888888,
              "#fdca26"
             ],
             [
              1,
              "#f0f921"
             ]
            ],
            "type": "histogram2dcontour"
           }
          ],
          "mesh3d": [
           {
            "colorbar": {
             "outlinewidth": 0,
             "ticks": ""
            },
            "type": "mesh3d"
           }
          ],
          "parcoords": [
           {
            "line": {
             "colorbar": {
              "outlinewidth": 0,
              "ticks": ""
             }
            },
            "type": "parcoords"
           }
          ],
          "pie": [
           {
            "automargin": true,
            "type": "pie"
           }
          ],
          "scatter": [
           {
            "marker": {
             "line": {
              "color": "#283442"
             }
            },
            "type": "scatter"
           }
          ],
          "scatter3d": [
           {
            "line": {
             "colorbar": {
              "outlinewidth": 0,
              "ticks": ""
             }
            },
            "marker": {
             "colorbar": {
              "outlinewidth": 0,
              "ticks": ""
             }
            },
            "type": "scatter3d"
           }
          ],
          "scattercarpet": [
           {
            "marker": {
             "colorbar": {
              "outlinewidth": 0,
              "ticks": ""
             }
            },
            "type": "scattercarpet"
           }
          ],
          "scattergeo": [
           {
            "marker": {
             "colorbar": {
              "outlinewidth": 0,
              "ticks": ""
             }
            },
            "type": "scattergeo"
           }
          ],
          "scattergl": [
           {
            "marker": {
             "line": {
              "color": "#283442"
             }
            },
            "type": "scattergl"
           }
          ],
          "scattermapbox": [
           {
            "marker": {
             "colorbar": {
              "outlinewidth": 0,
              "ticks": ""
             }
            },
            "type": "scattermapbox"
           }
          ],
          "scatterpolar": [
           {
            "marker": {
             "colorbar": {
              "outlinewidth": 0,
              "ticks": ""
             }
            },
            "type": "scatterpolar"
           }
          ],
          "scatterpolargl": [
           {
            "marker": {
             "colorbar": {
              "outlinewidth": 0,
              "ticks": ""
             }
            },
            "type": "scatterpolargl"
           }
          ],
          "scatterternary": [
           {
            "marker": {
             "colorbar": {
              "outlinewidth": 0,
              "ticks": ""
             }
            },
            "type": "scatterternary"
           }
          ],
          "surface": [
           {
            "colorbar": {
             "outlinewidth": 0,
             "ticks": ""
            },
            "colorscale": [
             [
              0,
              "#0d0887"
             ],
             [
              0.1111111111111111,
              "#46039f"
             ],
             [
              0.2222222222222222,
              "#7201a8"
             ],
             [
              0.3333333333333333,
              "#9c179e"
             ],
             [
              0.4444444444444444,
              "#bd3786"
             ],
             [
              0.5555555555555556,
              "#d8576b"
             ],
             [
              0.6666666666666666,
              "#ed7953"
             ],
             [
              0.7777777777777778,
              "#fb9f3a"
             ],
             [
              0.8888888888888888,
              "#fdca26"
             ],
             [
              1,
              "#f0f921"
             ]
            ],
            "type": "surface"
           }
          ],
          "table": [
           {
            "cells": {
             "fill": {
              "color": "#506784"
             },
             "line": {
              "color": "rgb(17,17,17)"
             }
            },
            "header": {
             "fill": {
              "color": "#2a3f5f"
             },
             "line": {
              "color": "rgb(17,17,17)"
             }
            },
            "type": "table"
           }
          ]
         },
         "layout": {
          "annotationdefaults": {
           "arrowcolor": "#f2f5fa",
           "arrowhead": 0,
           "arrowwidth": 1
          },
          "autotypenumbers": "strict",
          "coloraxis": {
           "colorbar": {
            "outlinewidth": 0,
            "ticks": ""
           }
          },
          "colorscale": {
           "diverging": [
            [
             0,
             "#8e0152"
            ],
            [
             0.1,
             "#c51b7d"
            ],
            [
             0.2,
             "#de77ae"
            ],
            [
             0.3,
             "#f1b6da"
            ],
            [
             0.4,
             "#fde0ef"
            ],
            [
             0.5,
             "#f7f7f7"
            ],
            [
             0.6,
             "#e6f5d0"
            ],
            [
             0.7,
             "#b8e186"
            ],
            [
             0.8,
             "#7fbc41"
            ],
            [
             0.9,
             "#4d9221"
            ],
            [
             1,
             "#276419"
            ]
           ],
           "sequential": [
            [
             0,
             "#0d0887"
            ],
            [
             0.1111111111111111,
             "#46039f"
            ],
            [
             0.2222222222222222,
             "#7201a8"
            ],
            [
             0.3333333333333333,
             "#9c179e"
            ],
            [
             0.4444444444444444,
             "#bd3786"
            ],
            [
             0.5555555555555556,
             "#d8576b"
            ],
            [
             0.6666666666666666,
             "#ed7953"
            ],
            [
             0.7777777777777778,
             "#fb9f3a"
            ],
            [
             0.8888888888888888,
             "#fdca26"
            ],
            [
             1,
             "#f0f921"
            ]
           ],
           "sequentialminus": [
            [
             0,
             "#0d0887"
            ],
            [
             0.1111111111111111,
             "#46039f"
            ],
            [
             0.2222222222222222,
             "#7201a8"
            ],
            [
             0.3333333333333333,
             "#9c179e"
            ],
            [
             0.4444444444444444,
             "#bd3786"
            ],
            [
             0.5555555555555556,
             "#d8576b"
            ],
            [
             0.6666666666666666,
             "#ed7953"
            ],
            [
             0.7777777777777778,
             "#fb9f3a"
            ],
            [
             0.8888888888888888,
             "#fdca26"
            ],
            [
             1,
             "#f0f921"
            ]
           ]
          },
          "colorway": [
           "#636efa",
           "#EF553B",
           "#00cc96",
           "#ab63fa",
           "#FFA15A",
           "#19d3f3",
           "#FF6692",
           "#B6E880",
           "#FF97FF",
           "#FECB52"
          ],
          "font": {
           "color": "#f2f5fa"
          },
          "geo": {
           "bgcolor": "rgb(17,17,17)",
           "lakecolor": "rgb(17,17,17)",
           "landcolor": "rgb(17,17,17)",
           "showlakes": true,
           "showland": true,
           "subunitcolor": "#506784"
          },
          "hoverlabel": {
           "align": "left"
          },
          "hovermode": "closest",
          "mapbox": {
           "style": "dark"
          },
          "paper_bgcolor": "rgb(17,17,17)",
          "plot_bgcolor": "rgb(17,17,17)",
          "polar": {
           "angularaxis": {
            "gridcolor": "#506784",
            "linecolor": "#506784",
            "ticks": ""
           },
           "bgcolor": "rgb(17,17,17)",
           "radialaxis": {
            "gridcolor": "#506784",
            "linecolor": "#506784",
            "ticks": ""
           }
          },
          "scene": {
           "xaxis": {
            "backgroundcolor": "rgb(17,17,17)",
            "gridcolor": "#506784",
            "gridwidth": 2,
            "linecolor": "#506784",
            "showbackground": true,
            "ticks": "",
            "zerolinecolor": "#C8D4E3"
           },
           "yaxis": {
            "backgroundcolor": "rgb(17,17,17)",
            "gridcolor": "#506784",
            "gridwidth": 2,
            "linecolor": "#506784",
            "showbackground": true,
            "ticks": "",
            "zerolinecolor": "#C8D4E3"
           },
           "zaxis": {
            "backgroundcolor": "rgb(17,17,17)",
            "gridcolor": "#506784",
            "gridwidth": 2,
            "linecolor": "#506784",
            "showbackground": true,
            "ticks": "",
            "zerolinecolor": "#C8D4E3"
           }
          },
          "shapedefaults": {
           "line": {
            "color": "#f2f5fa"
           }
          },
          "sliderdefaults": {
           "bgcolor": "#C8D4E3",
           "bordercolor": "rgb(17,17,17)",
           "borderwidth": 1,
           "tickwidth": 0
          },
          "ternary": {
           "aaxis": {
            "gridcolor": "#506784",
            "linecolor": "#506784",
            "ticks": ""
           },
           "baxis": {
            "gridcolor": "#506784",
            "linecolor": "#506784",
            "ticks": ""
           },
           "bgcolor": "rgb(17,17,17)",
           "caxis": {
            "gridcolor": "#506784",
            "linecolor": "#506784",
            "ticks": ""
           }
          },
          "title": {
           "x": 0.05
          },
          "updatemenudefaults": {
           "bgcolor": "#506784",
           "borderwidth": 0
          },
          "xaxis": {
           "automargin": true,
           "gridcolor": "#283442",
           "linecolor": "#506784",
           "ticks": "",
           "title": {
            "standoff": 15
           },
           "zerolinecolor": "#283442",
           "zerolinewidth": 2
          },
          "yaxis": {
           "automargin": true,
           "gridcolor": "#283442",
           "linecolor": "#506784",
           "ticks": "",
           "title": {
            "standoff": 15
           },
           "zerolinecolor": "#283442",
           "zerolinewidth": 2
          }
         }
        },
        "title": {
         "text": "Diabetes dataset"
        },
        "xaxis": {
         "title": {
          "text": "X"
         }
        },
        "yaxis": {
         "title": {
          "text": "Y"
         }
        }
       }
      }
     },
     "metadata": {},
     "output_type": "display_data"
    }
   ],
   "source": [
    "fig = go.Figure([\n",
    "    go.Scatter(x=x_train[:,[2]].squeeze(), y=y_train, name='Train', mode='markers'),\n",
    "    go.Scatter(x=x_test[:,[2]].squeeze(), y=y_test, name='Test', mode='markers'\n",
    "                ,marker=dict(size=8)),\n",
    "    go.Scatter(x=x_test[:,[2]].squeeze(), y=y_pred, name='Prediction', mode='markers',\n",
    "                marker=dict(size=9))\n",
    "])\n",
    "fig.update_layout(title='Diabetes dataset', xaxis_title='X', yaxis_title='Y', template='plotly_dark')\n",
    "fig.show()"
   ]
  }
 ],
 "metadata": {
  "kernelspec": {
   "display_name": "env",
   "language": "python",
   "name": "python3"
  },
  "language_info": {
   "codemirror_mode": {
    "name": "ipython",
    "version": 3
   },
   "file_extension": ".py",
   "mimetype": "text/x-python",
   "name": "python",
   "nbconvert_exporter": "python",
   "pygments_lexer": "ipython3",
   "version": "3.12.4"
  }
 },
 "nbformat": 4,
 "nbformat_minor": 2
}
