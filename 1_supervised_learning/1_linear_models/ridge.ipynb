{
 "cells": [
  {
   "cell_type": "markdown",
   "metadata": {},
   "source": [
    "## RIDGE REGRESSION \n",
    "\n",
    "La Ridge Regression (Regresión de Cresta) es una variante de la regresión lineal que incluye un término de penalización para limitar la magnitud de los coeficientes del modelo. Esto ayuda a evitar el sobreajuste y a manejar problemas como la multicolinealidad en los datos.\n",
    "\n",
    "## Conceptos clave\n",
    "\n"
   ]
  }
 ],
 "metadata": {
  "language_info": {
   "name": "python"
  }
 },
 "nbformat": 4,
 "nbformat_minor": 2
}
